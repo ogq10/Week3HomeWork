{
 "cells": [
  {
   "cell_type": "markdown",
   "metadata": {},
   "source": [
    "# Time Space Complexity (BigO Notation) & Basic Algorithms"
   ]
  },
  {
   "cell_type": "markdown",
   "metadata": {},
   "source": [
    "## Tasks Today:\n",
    "1) Sets - Something we missed last week! <br>\n",
    " &nbsp;&nbsp;&nbsp;&nbsp; a) Declaring <br>\n",
    " &nbsp;&nbsp;&nbsp;&nbsp; b) .add() <br>\n",
    " &nbsp;&nbsp;&nbsp;&nbsp; c) .remove() <br>\n",
    " &nbsp;&nbsp;&nbsp;&nbsp; d) .union() <br>\n",
    " &nbsp;&nbsp;&nbsp;&nbsp; e) .intersection() <br>\n",
    " &nbsp;&nbsp;&nbsp;&nbsp; f) .difference() <br>\n",
    " &nbsp;&nbsp;&nbsp;&nbsp; g) Frozen Set <br>\n",
    "2) Time and Space Complexity <br>\n",
    "3) BigO Notation<br>\n",
    "4) Dictionaries vs. Lists (over time)<br>\n",
    "5) Arrays in Python vs other languages\n",
    "6) Time/Space Complexity for different Data Collections <br>\n",
    " &nbsp;&nbsp;&nbsp;&nbsp; a) Lists (Arrays) <br>\n",
    " &nbsp;&nbsp;&nbsp;&nbsp; b) Dictionaries (Hash Tables/Maps) <br>\n",
    " &nbsp;&nbsp;&nbsp;&nbsp; c) Sets <br>\n",
    "\n"
   ]
  },
  {
   "cell_type": "markdown",
   "metadata": {},
   "source": [
    "## Set <br>\n",
    "<p>A Set is an unordered collection data type that is iterable (loop), mutable, and has no duplicate elements.<br>Major advantage is that it is highly optimized in checking if something is in the set, as opposed to checking if something is in a list.</p>"
   ]
  },
  {
   "cell_type": "markdown",
   "metadata": {},
   "source": [
    "##### Declaring"
   ]
  },
  {
   "cell_type": "code",
   "execution_count": 2,
   "metadata": {},
   "outputs": [
    {
     "name": "stdout",
     "output_type": "stream",
     "text": [
      "{1, 2, 3} {1, 2, 3}\n"
     ]
    }
   ],
   "source": [
    "# set() or {}\n",
    "# no order {3, 2, 1} outputs as {1, 2, 3}\n",
    "\n",
    "a_set = set([3,2,1,2,2,2,])\n",
    "b_set = {3,2,1,2}\n",
    "\n",
    "print(a_set, b_set)"
   ]
  },
  {
   "cell_type": "markdown",
   "metadata": {},
   "source": [
    "##### .add()"
   ]
  },
  {
   "cell_type": "code",
   "execution_count": 3,
   "metadata": {},
   "outputs": [
    {
     "data": {
      "text/plain": [
       "{1, 2, 3, 4}"
      ]
     },
     "execution_count": 3,
     "metadata": {},
     "output_type": "execute_result"
    }
   ],
   "source": [
    "# set.add()\n",
    "\n",
    "a_set.add(4)\n",
    "\n",
    "a_set"
   ]
  },
  {
   "cell_type": "markdown",
   "metadata": {},
   "source": [
    "##### .remove()"
   ]
  },
  {
   "cell_type": "code",
   "execution_count": 4,
   "metadata": {},
   "outputs": [],
   "source": [
    "# removes by value\n",
    "# set.remove()\n",
    "# nums.remove(56)"
   ]
  },
  {
   "cell_type": "markdown",
   "metadata": {},
   "source": [
    "##### .union() "
   ]
  },
  {
   "cell_type": "code",
   "execution_count": 5,
   "metadata": {},
   "outputs": [],
   "source": [
    "# Returns a union of two sets, can also use '|' or set.union(set)\n",
    "# joins all numbers, gets rid of duplicates"
   ]
  },
  {
   "cell_type": "markdown",
   "metadata": {},
   "source": [
    "##### .intersection()"
   ]
  },
  {
   "cell_type": "code",
   "execution_count": 6,
   "metadata": {},
   "outputs": [],
   "source": [
    "# Returns an intersection of two sets, can also use '&'\n",
    "# only takes similar elements from both sets"
   ]
  },
  {
   "cell_type": "markdown",
   "metadata": {},
   "source": [
    "##### .difference()"
   ]
  },
  {
   "cell_type": "code",
   "execution_count": 7,
   "metadata": {},
   "outputs": [],
   "source": [
    "# Returns a set containing all the elements of invoking set that are not in the second set, can also use '-'\n",
    "# only takes values from the first set that are not in the second set\n",
    "# order matters\n"
   ]
  },
  {
   "cell_type": "markdown",
   "metadata": {},
   "source": [
    "##### .clear()"
   ]
  },
  {
   "cell_type": "code",
   "execution_count": 8,
   "metadata": {},
   "outputs": [],
   "source": [
    "# Empties the whole set\n",
    "# set.clear()\n"
   ]
  },
  {
   "cell_type": "markdown",
   "metadata": {},
   "source": [
    "##### Frozenset <br>\n",
    "<p>Frozen sets are immutable objects that only support methods and operators that produce a result without affecting the frozen set or sets to which they are applied.</p><br><b>Unique & Immutable</b>"
   ]
  },
  {
   "cell_type": "code",
   "execution_count": 9,
   "metadata": {},
   "outputs": [],
   "source": [
    "# frozenset([])\n",
    "s3 = {1,2,3,4,5,6}\n"
   ]
  },
  {
   "cell_type": "markdown",
   "metadata": {},
   "source": [
    "# Time and Space Complexity\n",
    "\n",
    "#### What is it?\n",
    "\n",
    "Time and space complexity is the measure of how much time a given action(function) will take to solve a problem. In the same fashion, we determine how much a given data structure will need in terms of memory allocation. A problem can have multiple solutions and finding the optimal solution for the problem needs to be analyzed in time and space.\n",
    "\n",
    "#### How do we measure Time and Space Complexity?\n",
    "\n",
    "In order to measure time and space complexity we use Asymptotic analysis. The reason for this is because we need a way to measure different algorithms (functions) based on the size of their inputs in a mathmatical way. For example, we could have a function that is computed as f(n) and another that is g(n^2). All things around the function staying constant, the only thing that changes is the size of the input. Below is the chart that shows the different Asymptotic analysis formats. "
   ]
  },
  {
   "cell_type": "markdown",
   "metadata": {},
   "source": [
    "## Big O Notation - Time & Space Complexity\n",
    "\n",
    "Big O Notation is the language we use when talking about how long an algorithm(function) takes to run.\n",
    "\n",
    "The most popular runtimes as explained in Big O Notation are (In Order of Speed): <br>\n",
    "\n",
    "| Name   |      Big O      |\n",
    "|----------|:-------------:|\n",
    "| Constant |  O(1) |\n",
    "| Logarithmic | O(log(n)) |\n",
    "| Linear |    O(n)   |\n",
    "|Linear-Logarithmic| O(nlog(n))|\n",
    "| Quadratic | O(n^2) |\n",
    "| Cubic | O(n^3) |\n",
    "| Exponential | O(2^n) |\n",
    "\n"
   ]
  },
  {
   "cell_type": "markdown",
   "metadata": {},
   "source": [
    "### Constant Time O(1)\n",
    "\n",
    "<img src=\"https://cooervo.github.io/Algorithms-DataStructures-BigONotation/images/graphs/constant.svg\">"
   ]
  },
  {
   "cell_type": "code",
   "execution_count": 10,
   "metadata": {},
   "outputs": [],
   "source": [
    "# Example of Constant Time O(1)\n",
    "# This runtime will stay the same, no matter the amount of items\n"
   ]
  },
  {
   "cell_type": "markdown",
   "metadata": {},
   "source": [
    "### In order to best explain Logorithmic time, it is best to use a popular algorithm called `Binary Search`.\n",
    "\n",
    "### Here's an example:\n",
    "<img src=\"https://www.geeksforgeeks.org/wp-content/uploads/Binary-Search.png\">\n",
    "\n",
    "### This algorithm essentially halves the input that it is given each time a cycle is made. Here's a close look at the code:"
   ]
  },
  {
   "cell_type": "code",
   "execution_count": 11,
   "metadata": {},
   "outputs": [],
   "source": [
    "# Binary Search \n",
    "# Logarithmic\n",
    "# The runtime is O(log(n)) | This is known as a divide and conquer\n"
   ]
  },
  {
   "cell_type": "markdown",
   "metadata": {},
   "source": [
    "### Here's another graph that shows the difference between Linear O(n) and Binary Search which is O(log(n)):\n",
    "\n",
    "<img src=\"data:image/png;base64,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\">"
   ]
  },
  {
   "cell_type": "code",
   "execution_count": 12,
   "metadata": {},
   "outputs": [],
   "source": [
    "# Example of Linear Time: O(n)\n",
    "# This runtime will increase, as the number of items increases\n"
   ]
  },
  {
   "cell_type": "code",
   "execution_count": 13,
   "metadata": {},
   "outputs": [],
   "source": [
    "# Example of Quadratic Time : O(n^2)\n",
    "# A function is known as quadratic if it requires us to complete two nested loops\n",
    "# And iterate over items in the loop multiple times.\n"
   ]
  },
  {
   "cell_type": "markdown",
   "metadata": {},
   "source": [
    "## Dictionaries vs. Lists (over time) Example of RUNTIME\n",
    "### When inputting values in a Dictionary vs List"
   ]
  },
  {
   "cell_type": "code",
   "execution_count": 4,
   "metadata": {},
   "outputs": [],
   "source": [
    "import time\n",
    "\n",
    "#generate fake dictionary data\n",
    "\n",
    "d = {}\n",
    "\n",
    "for i in range(1000000): \n",
    "    d[i] = 'value'\n",
    "    \n",
    "#generate big list with range\n",
    "\n",
    "big_list = [x for x in range(1000000)]"
   ]
  },
  {
   "cell_type": "code",
   "execution_count": 8,
   "metadata": {},
   "outputs": [
    {
     "name": "stdout",
     "output_type": "stream",
     "text": [
      "value\n",
      "0.0009770393371582031\n"
     ]
    }
   ],
   "source": [
    "#tracking time\n",
    "\n",
    "start_time = time.time()\n",
    "\n",
    "print(d[999999])\n",
    "\n",
    "end_time = time.time() - start_time\n",
    "print(end_time)"
   ]
  },
  {
   "cell_type": "markdown",
   "metadata": {},
   "source": [
    "## Arrays"
   ]
  },
  {
   "cell_type": "markdown",
   "metadata": {},
   "source": [
    "In python we benefit from the dynamic array which means the block of memory will expand as needed for the given input to the array. In traditional arrays (depending on the type of operating system) we will usually store our inputs in 4 or 8 consecutive blocks of memory. Below is a diagram of how that looks under the hood:\n",
    "\n",
    "<img src=\"http://www.mathcs.emory.edu/~cheung/Courses/170/Syllabus/09/FIGS/array02x.gif\" style=\"height:250px; width:350px;\">"
   ]
  },
  {
   "cell_type": "markdown",
   "metadata": {},
   "source": [
    "## Which in python looks like this:"
   ]
  },
  {
   "cell_type": "code",
   "execution_count": null,
   "metadata": {},
   "outputs": [],
   "source": []
  },
  {
   "cell_type": "markdown",
   "metadata": {},
   "source": [
    "### Let's take a look at some of the time and space analysis of arrays, dictionaries, and sets"
   ]
  },
  {
   "cell_type": "code",
   "execution_count": null,
   "metadata": {},
   "outputs": [],
   "source": []
  }
 ],
 "metadata": {
  "kernelspec": {
   "display_name": "Python 3",
   "language": "python",
   "name": "python3"
  },
  "language_info": {
   "codemirror_mode": {
    "name": "ipython",
    "version": 3
   },
   "file_extension": ".py",
   "mimetype": "text/x-python",
   "name": "python",
   "nbconvert_exporter": "python",
   "pygments_lexer": "ipython3",
   "version": "3.8.5"
  }
 },
 "nbformat": 4,
 "nbformat_minor": 4
}
